{
  "nbformat": 4,
  "nbformat_minor": 0,
  "metadata": {
    "colab": {
      "provenance": [],
      "gpuType": "T4"
    },
    "kernelspec": {
      "name": "python3",
      "display_name": "Python 3"
    },
    "language_info": {
      "name": "python"
    },
    "accelerator": "GPU"
  },
  "cells": [
    {
      "cell_type": "markdown",
      "source": [
        "# CNN Architecture\n",
        "\n",
        "<div style=\"background-color: #32a852; border-radius: 10px; text-align: center; padding: 10px;\">\n",
        "    \n",
        "</div>\n"
      ],
      "metadata": {
        "id": "lJcrsrXoc_iS"
      }
    },
    {
      "cell_type": "markdown",
      "source": [
        "# TOPIC: Understanding Pooling and Padding in CNN\n",
        "\n",
        "\n",
        "---\n",
        "\n",
        "# 1. Desccire the purpose and benefits of pooling in CNN."
      ],
      "metadata": {
        "id": "LyTTu_ErYnnI"
      }
    },
    {
      "cell_type": "markdown",
      "source": [
        "Pooling is a very useful concept which is used in Convulution of Neural Networks. Pooling is nothing but just the downsampling of images.By a simple example we can understanf the concept of polling .let's assume, if a image size is (100 * 100) and we applying the polling = 2 in that image.It will gives us a shrinked image of (50 * 50). As we see in our daily life, if the objects are very nearer to our eyes.It will hard to identify them. Pooling is reduces the input image size and filter size will always same.In each complete itresation of filter from the pooled image has give more information to the filter from the previous complete itresion.\n",
        "\n",
        "The Boxes can Overlap in pooling The one of another benifit of pooling is a less processing of data as image had reduced, which gives it lower computetional cost."
      ],
      "metadata": {
        "id": "HBNfqBf9Ynjt"
      }
    },
    {
      "cell_type": "markdown",
      "source": [
        "#  Explain the difference between min pooling and max poling."
      ],
      "metadata": {
        "id": "WXQQIm7DYnh8"
      }
    },
    {
      "cell_type": "markdown",
      "source": [
        "As we have discussed the concept of pooling, which is down sampling of the image. There are three types of pooling such as\n",
        "- Max Pooling\n",
        "- Min Pooling\n",
        "- Avrage Pooling\n",
        "\n",
        "The diffrence between min pooling and max pooling is very simple. Max pooling the the most commanly used pooling tachnique, which selecting the most dominating pixels from their box to make a shrinkage image. These boxes my be overlap as according to the strides. While Min pooling aims to capture the least value in a local region, emphasizing the presence of lower-intensity features. It can be useful in certain scenarios, especially when the network needs to be sensitive to the presence of small details."
      ],
      "metadata": {
        "id": "EFqjKoc3YnLK"
      }
    },
    {
      "cell_type": "markdown",
      "source": [
        "# Discuss the concept of padding in CNN and its significance."
      ],
      "metadata": {
        "id": "J98tApA2YnJf"
      }
    },
    {
      "cell_type": "markdown",
      "source": [
        "Padding is just adding one or more zero layers to the outer layer of images , so that the dimensionality of that image has to be saved in their previous size , even after the convolution of that image.In other words, If we give pad=1 , which means we are adding one zero layer to the outer layer of our images to maintain the shape of the image.Zero-padding helps maintain the spatial dimensions of the input, preventing a drastic reduction in the size of the feature maps. This is crucial for retaining spatial information, especially at the borders of the input."
      ],
      "metadata": {
        "id": "KJxh0DaCYnHk"
      }
    },
    {
      "cell_type": "markdown",
      "source": [
        "# Compere and contrast zero-padding and valid-padding in terms of their effects on the output feature map size."
      ],
      "metadata": {
        "id": "8KkB3mSPYnF8"
      }
    },
    {
      "cell_type": "markdown",
      "source": [
        "As when we don't use any thing for save our spatial information and leting the inputs as raw with zero padding, This senrio is called valid padding or no padding.\n",
        "\n",
        "- Zero-padding is often preferred when maintaining spatial information, especially at the borders, is critical (e.g., object detection tasks).\n",
        "- Valid-padding may be suitable when a reduction in spatial dimensions is acceptable, such as in some classification tasks\n",
        "- Valid-padding is more computationally efficient as it involves fewer calculations due to the absence of padding."
      ],
      "metadata": {
        "id": "OBpaGdPaYnBi"
      }
    },
    {
      "cell_type": "markdown",
      "source": [
        "# TOPIC: Exploring LeNet\n",
        "\n",
        "\n",
        "---\n",
        "\n",
        "# Provide a brief overview of LeNet Architectiure\n"
      ],
      "metadata": {
        "id": "VS1c8CGMYm_x"
      }
    },
    {
      "cell_type": "markdown",
      "source": [
        "LeNet architecture is introduced in 1998 by Yann LeCun and his collaborators.It will popularises in that era for the manual opreations.Lenet is a one of the simplest CNN architecture in the field of deep learning.It has around 60,000 parameters.The architecture was trained using gradient-based optimization methods, such as stochastic gradient descent (SGD)."
      ],
      "metadata": {
        "id": "kPEl-E6VYm80"
      }
    },
    {
      "cell_type": "markdown",
      "source": [
        "# Describe the components of Lenet Architecture and their respective purpose."
      ],
      "metadata": {
        "id": "jilMPVnIYm6x"
      }
    },
    {
      "cell_type": "markdown",
      "source": [
        "input layer(32*32) ----> Conv layer(5*5)----> avg pooling (2*2)---->conv (5*5)----> avg pooling(2*2)----> {tanh---> tanh--->softmax} <------fully connected layer\n",
        "\n",
        "\n",
        "**Input layer :** The input layer has made for 28*28 size gray scale image. Each pixel represents the intensity of the image.\n",
        "\n",
        "**Convolution layer :**  The convolutional layers are responsible for detecting spatial patterns in the input images.The first convolutional layer has 6 filters of size 5x5, capturing low-level features.\n",
        "The second convolutional layer has 16 filters of size 5x5, capturing more complex features. Both convolutional layers use the hyperbolic tangent (tanh) activation function.\n",
        "\n",
        "**Pooling Layers :** he subsampling layers (average pooling layers) follow each convolutional layer and serve to reduce the spatial dimensions of the feature maps, providing a degree of translation invariance.\n",
        "\n",
        "**Fully connected layers :** The fully connected layers take the high-level features extracted by the convolutional and pooling layers and transform them into a format suitable for classification. Tanh activation function are applied in these layers.The last layer, which is the output layer is assigned with the softmax activation function . Which gives the outputs in the probabilites.\n"
      ],
      "metadata": {
        "id": "Gklyt1spYm3O"
      }
    },
    {
      "cell_type": "markdown",
      "source": [
        "# Discuss the advantages and limitations of LeNet-5 in the context of image classijication tasks ."
      ],
      "metadata": {
        "id": "rf4-vstfYm1q"
      }
    },
    {
      "cell_type": "markdown",
      "source": [
        "**Advantages of LeNet-5:**\n",
        "\n",
        "- Pioneering architecture for image classification with CNNs.\n",
        "- Hierarchical feature extraction for pattern recognition.\n",
        "- Translation invariance and robustness to slight translations.\n",
        "- Effectiveness for handwritten digit recognition.\n",
        "\n",
        "\n",
        "**Limitations of LeNet-5:**\n",
        "\n",
        "- Limited capacity compared to modern architectures.\n",
        "- Small input size may not scale well to larger images.\n",
        "- Use of tanh activation may lead to vanishing gradient.\n",
        "- Not suitable for large-scale datasets with diverse objects.\n",
        "- Average pooling may not be as effective as max pooling.\n",
        "- Prone to overfitting on complex tasks or datasets.\n",
        "\n",
        "\n",
        "\n"
      ],
      "metadata": {
        "id": "0Th-EPErYmyn"
      }
    },
    {
      "cell_type": "markdown",
      "source": [
        "# Impelement LeNet-5 using a deep learning framework of your choice (e.g., TensocFlow, PyTocch) and train it on a publicaly availabe dataset (e.g., MNIST). Evaluate its performance."
      ],
      "metadata": {
        "id": "Rwf_imZqYmtO"
      }
    },
    {
      "cell_type": "code",
      "source": [
        "import tensorflow as tf\n",
        "from tensorflow.keras import layers, models\n",
        "from tensorflow.keras.datasets import mnist\n",
        "from tensorflow.keras.utils import to_categorical\n",
        "import matplotlib.pyplot as plt\n"
      ],
      "metadata": {
        "id": "Sa9bKIT_ceYZ"
      },
      "execution_count": 1,
      "outputs": []
    },
    {
      "cell_type": "code",
      "source": [
        "# Load and preprocess the MNIST dataset\n",
        "(x_train, y_train), (x_test, y_test) = mnist.load_data()\n",
        "x_train = x_train.reshape((60000, 28, 28, 1)).astype('float32') / 255\n",
        "x_test = x_test.reshape((10000, 28, 28, 1)).astype('float32') / 255\n"
      ],
      "metadata": {
        "colab": {
          "base_uri": "https://localhost:8080/"
        },
        "id": "UozfV9lXceWg",
        "outputId": "5a2c5b2c-073a-4b60-8ecd-791fbe2e38a7"
      },
      "execution_count": 2,
      "outputs": [
        {
          "output_type": "stream",
          "name": "stdout",
          "text": [
            "Downloading data from https://storage.googleapis.com/tensorflow/tf-keras-datasets/mnist.npz\n",
            "11490434/11490434 [==============================] - 1s 0us/step\n"
          ]
        }
      ]
    },
    {
      "cell_type": "code",
      "source": [
        "y_train = to_categorical(y_train)\n",
        "y_test = to_categorical(y_test)"
      ],
      "metadata": {
        "id": "b8fnYoAyceUq"
      },
      "execution_count": 3,
      "outputs": []
    },
    {
      "cell_type": "code",
      "source": [
        "\n",
        "# Define the LeNet-5 model\n",
        "model = models.Sequential()\n",
        "model.add(layers.Conv2D(6, (5, 5), activation='tanh', input_shape=(28, 28, 1)))\n",
        "model.add(layers.AveragePooling2D((2, 2)))\n",
        "model.add(layers.Conv2D(16, (5, 5), activation='tanh'))\n",
        "model.add(layers.AveragePooling2D((2, 2)))\n",
        "model.add(layers.Flatten())\n",
        "model.add(layers.Dense(120, activation='tanh'))\n",
        "model.add(layers.Dense(84, activation='tanh'))\n",
        "model.add(layers.Dense(10, activation='softmax'))"
      ],
      "metadata": {
        "id": "Z0PP7tx0ceSK"
      },
      "execution_count": 4,
      "outputs": []
    },
    {
      "cell_type": "code",
      "source": [
        "\n",
        "# Compile the model\n",
        "model.compile(optimizer='adam',\n",
        "              loss='categorical_crossentropy',\n",
        "              metrics=['accuracy'])"
      ],
      "metadata": {
        "id": "_n01vSp7cePJ"
      },
      "execution_count": 5,
      "outputs": []
    },
    {
      "cell_type": "code",
      "source": [
        "# Train the model\n",
        "history = model.fit(x_train, y_train, epochs=10, batch_size=64, validation_data=(x_test, y_test))"
      ],
      "metadata": {
        "colab": {
          "base_uri": "https://localhost:8080/"
        },
        "id": "vt9C6_xtceNb",
        "outputId": "03c6eecb-1594-4e32-ef22-02ce49c02428"
      },
      "execution_count": 6,
      "outputs": [
        {
          "output_type": "stream",
          "name": "stdout",
          "text": [
            "Epoch 1/10\n",
            "938/938 [==============================] - 9s 6ms/step - loss: 0.2858 - accuracy: 0.9172 - val_loss: 0.1238 - val_accuracy: 0.9633\n",
            "Epoch 2/10\n",
            "938/938 [==============================] - 4s 5ms/step - loss: 0.1090 - accuracy: 0.9663 - val_loss: 0.0845 - val_accuracy: 0.9728\n",
            "Epoch 3/10\n",
            "938/938 [==============================] - 6s 6ms/step - loss: 0.0718 - accuracy: 0.9779 - val_loss: 0.0624 - val_accuracy: 0.9796\n",
            "Epoch 4/10\n",
            "938/938 [==============================] - 4s 4ms/step - loss: 0.0559 - accuracy: 0.9825 - val_loss: 0.0578 - val_accuracy: 0.9808\n",
            "Epoch 5/10\n",
            "938/938 [==============================] - 4s 5ms/step - loss: 0.0453 - accuracy: 0.9858 - val_loss: 0.0604 - val_accuracy: 0.9805\n",
            "Epoch 6/10\n",
            "938/938 [==============================] - 5s 5ms/step - loss: 0.0370 - accuracy: 0.9887 - val_loss: 0.0437 - val_accuracy: 0.9857\n",
            "Epoch 7/10\n",
            "938/938 [==============================] - 5s 5ms/step - loss: 0.0309 - accuracy: 0.9902 - val_loss: 0.0506 - val_accuracy: 0.9823\n",
            "Epoch 8/10\n",
            "938/938 [==============================] - 5s 6ms/step - loss: 0.0257 - accuracy: 0.9918 - val_loss: 0.0487 - val_accuracy: 0.9834\n",
            "Epoch 9/10\n",
            "938/938 [==============================] - 6s 7ms/step - loss: 0.0223 - accuracy: 0.9926 - val_loss: 0.0486 - val_accuracy: 0.9846\n",
            "Epoch 10/10\n",
            "938/938 [==============================] - 4s 5ms/step - loss: 0.0185 - accuracy: 0.9944 - val_loss: 0.0434 - val_accuracy: 0.9863\n"
          ]
        }
      ]
    },
    {
      "cell_type": "code",
      "source": [
        "# Evaluate the model\n",
        "test_loss, test_acc = model.evaluate(x_test, y_test)\n",
        "print(f'Test Accuracy: {test_acc}')"
      ],
      "metadata": {
        "colab": {
          "base_uri": "https://localhost:8080/"
        },
        "id": "vTLjKfpRc65X",
        "outputId": "402995e4-a412-4d17-dd7d-55b9d2573aab"
      },
      "execution_count": 7,
      "outputs": [
        {
          "output_type": "stream",
          "name": "stdout",
          "text": [
            "313/313 [==============================] - 1s 3ms/step - loss: 0.0434 - accuracy: 0.9863\n",
            "Test Accuracy: 0.986299991607666\n"
          ]
        }
      ]
    },
    {
      "cell_type": "code",
      "source": [
        "# Plot the training history\n",
        "plt.plot(history.history['accuracy'], label='Training Accuracy')\n",
        "plt.plot(history.history['val_accuracy'], label='Validation Accuracy')\n",
        "plt.xlabel('Epoch')\n",
        "plt.ylabel('Accuracy')\n",
        "plt.legend()\n",
        "plt.show()\n"
      ],
      "metadata": {
        "colab": {
          "base_uri": "https://localhost:8080/",
          "height": 449
        },
        "id": "Xzen_tDaYNra",
        "outputId": "b9134cab-5f73-4cc9-ed11-4aa7875a77eb"
      },
      "execution_count": 8,
      "outputs": [
        {
          "output_type": "display_data",
          "data": {
            "text/plain": [
              "<Figure size 640x480 with 1 Axes>"
            ],
            "image/png": "[encoded data removed]"
          },
          "metadata": {}
        }
      ]
    },
    {
      "cell_type": "markdown",
      "source": [
        "# TOPIC: Analyzing AlexNet\n",
        "\n",
        "\n",
        "---\n",
        "# Present the overview of the AlexNet Arichitecture.\n"
      ],
      "metadata": {
        "id": "xLKhlhLUdbr_"
      }
    },
    {
      "cell_type": "markdown",
      "source": [
        "Alexnet is a one of the usefull arichitecture of CNN , which is devploped by Alex Krizhevsky, Ilya Sutskever, and Geoffrey Hinton in 2012. It had won many awrads in the realm of deep learning. At that time , it was most largest CNN architecture, which has 60 Million parameters. It has total 8 layers in which 5 are convultion layers and rest three are fully connected layers.lexNet is a groundbreaking neural network architecture that demonstrated the power of deep learning for image classification tasks. Its depth, the use of ReLU activation, and the application of techniques like dropout and LRN contributed to its success and influenced subsequent deep learning architectures.Even relu is first time implemented in this architecture."
      ],
      "metadata": {
        "id": "EqD0srggdb1A"
      }
    },
    {
      "cell_type": "markdown",
      "source": [
        "# Explain the archetctural innovations intcoduced in AlexNet that contributes to its breakthrough performance."
      ],
      "metadata": {
        "id": "g5VfgHALeIP9"
      }
    },
    {
      "cell_type": "markdown",
      "source": [
        "\n",
        "AlexNet's breakthrough performance was attributed to its deep architecture, ReLU activation, local response normalization, overlapping max pooling, large convolutional filters, data augmentation, dropout, GPU acceleration, and parallelization. These innovations collectively enhanced feature learning, reduced overfitting, and made efficient use of computational resources, marking a milestone in the adoption of deep learning for image classification."
      ],
      "metadata": {
        "id": "CDdruJJpeIOI"
      }
    },
    {
      "cell_type": "markdown",
      "source": [
        "# Discuss the role of convolutional layers, pooling layers, and fully connected layers in AlexNet."
      ],
      "metadata": {
        "id": "NC63dgTeeIGC"
      }
    },
    {
      "cell_type": "markdown",
      "source": [
        "**Convolutional layers :**\n",
        "\n",
        "Convolutional layer is applying the filter on the input image which detect the imgege's data , edages and patterns. Convolution  has doing the feature extraction from the imput image.In AlexNet, the first convolutional layer has 96 filters, followed by subsequent layers with 256, 384, 384, and 256 filters, respectively.\n",
        "\n",
        "**Pooling Layers :** Pooling layers are hepls to providing the information to the filters.  Pooling layers, specifically max pooling in AlexNet, reduce spatial dimensions by selecting the maximum value within local regions. In AlexNet, three max-pooling layers with overlapping windows and a stride of 2 are employed.These layers are reduces the computetional complexities and impact of overfitting as well.\n",
        "\n",
        "**Fully Connected Layers :** Fully connected layers are responsible for high-level feature aggregation and classification. In AlexNet, there are three fully connected layers with 4096 neurons each, followed by a final layer with 1000 neurons for ImageNet's 1000 classes"
      ],
      "metadata": {
        "id": "64V7mx8_eIEP"
      }
    },
    {
      "cell_type": "markdown",
      "source": [
        "# Implement AlexNet using a deep leacning framework of your choice and evaluate its performance on a dataset of your choice."
      ],
      "metadata": {
        "id": "98_1PFT0eH_D"
      }
    },
    {
      "cell_type": "code",
      "source": [
        "import tensorflow as tf\n",
        "from tensorflow.keras import layers, models\n",
        "\n",
        "# Load and preprocess your dataset (replace this with your dataset loading code)\n",
        "# For demonstration purposes, I'll use the CIFAR-10 dataset\n",
        "(x_train, y_train), (x_test, y_test) = tf.keras.datasets.cifar10.load_data()\n",
        "x_train, x_test = x_train / 255.0, x_test / 255.0\n",
        "\n",
        "# Define a simplified version of AlexNet\n",
        "model = models.Sequential([\n",
        "    layers.Conv2D(64, (3, 3), activation='relu', input_shape=(32, 32, 3)),\n",
        "    layers.MaxPooling2D((2, 2)),\n",
        "    layers.Conv2D(128, (3, 3), activation='relu'),\n",
        "    layers.MaxPooling2D((2, 2)),\n",
        "    layers.Conv2D(256, (3, 3), activation='relu'),\n",
        "    layers.Flatten(),\n",
        "    layers.Dense(256, activation='relu'),\n",
        "    layers.Dropout(0.5),\n",
        "    layers.Dense(10, activation='softmax')\n",
        "])\n",
        "\n",
        "# Compile the model\n",
        "model.compile(optimizer='adam', loss='sparse_categorical_crossentropy', metrics=['accuracy'])\n",
        "\n",
        "# Train the model\n",
        "history=model.fit(x_train, y_train, epochs=10, validation_data=(x_test, y_test))\n",
        "\n",
        "# Evaluate the model on the test set\n",
        "test_loss, test_acc = model.evaluate(x_test, y_test)\n",
        "print(f'Test Accuracy: {test_acc}')\n"
      ],
      "metadata": {
        "colab": {
          "base_uri": "https://localhost:8080/"
        },
        "id": "w2pWxidtaSrS",
        "outputId": "ba20db38-868c-41b1-ca45-39ca0b50381a"
      },
      "execution_count": 15,
      "outputs": [
        {
          "output_type": "stream",
          "name": "stdout",
          "text": [
            "Epoch 1/10\n",
            "1563/1563 [==============================] - 11s 6ms/step - loss: 1.5501 - accuracy: 0.4329 - val_loss: 1.1925 - val_accuracy: 0.5731\n",
            "Epoch 2/10\n",
            "1563/1563 [==============================] - 8s 5ms/step - loss: 1.1296 - accuracy: 0.6059 - val_loss: 0.9751 - val_accuracy: 0.6551\n",
            "Epoch 3/10\n",
            "1563/1563 [==============================] - 9s 6ms/step - loss: 0.9596 - accuracy: 0.6667 - val_loss: 0.8717 - val_accuracy: 0.6943\n",
            "Epoch 4/10\n",
            "1563/1563 [==============================] - 8s 5ms/step - loss: 0.8391 - accuracy: 0.7091 - val_loss: 0.8706 - val_accuracy: 0.7009\n",
            "Epoch 5/10\n",
            "1563/1563 [==============================] - 9s 6ms/step - loss: 0.7512 - accuracy: 0.7390 - val_loss: 0.8112 - val_accuracy: 0.7292\n",
            "Epoch 6/10\n",
            "1563/1563 [==============================] - 8s 5ms/step - loss: 0.6754 - accuracy: 0.7658 - val_loss: 0.8119 - val_accuracy: 0.7304\n",
            "Epoch 7/10\n",
            "1563/1563 [==============================] - 8s 5ms/step - loss: 0.6117 - accuracy: 0.7846 - val_loss: 0.8061 - val_accuracy: 0.7303\n",
            "Epoch 8/10\n",
            "1563/1563 [==============================] - 8s 5ms/step - loss: 0.5505 - accuracy: 0.8078 - val_loss: 0.8004 - val_accuracy: 0.7427\n",
            "Epoch 9/10\n",
            "1563/1563 [==============================] - 8s 5ms/step - loss: 0.4959 - accuracy: 0.8254 - val_loss: 0.7995 - val_accuracy: 0.7442\n",
            "Epoch 10/10\n",
            "1563/1563 [==============================] - 9s 6ms/step - loss: 0.4425 - accuracy: 0.8431 - val_loss: 0.9116 - val_accuracy: 0.7366\n",
            "313/313 [==============================] - 1s 3ms/step - loss: 0.9116 - accuracy: 0.7366\n",
            "Test Accuracy: 0.7365999817848206\n"
          ]
        }
      ]
    },
    {
      "cell_type": "code",
      "source": [
        "# Plot the training history\n",
        "plt.plot(history.history['accuracy'], label='Training Accuracy')\n",
        "plt.plot(history.history['val_accuracy'], label='Validation Accuracy')\n",
        "plt.xlabel('Epoch')\n",
        "plt.ylabel('Accuracy')\n",
        "plt.legend()\n",
        "plt.show()\n"
      ],
      "metadata": {
        "colab": {
          "base_uri": "https://localhost:8080/",
          "height": 449
        },
        "id": "srF4QUJsba_Y",
        "outputId": "0126ca8b-b72e-49fe-983e-44eb15822614"
      },
      "execution_count": 16,
      "outputs": [
        {
          "output_type": "display_data",
          "data": {
            "text/plain": [
              "<Figure size 640x480 with 1 Axes>"
            ],
            "image/png": "[encoded data removed]"
          },
          "metadata": {}
        }
      ]
    }
  ]
}